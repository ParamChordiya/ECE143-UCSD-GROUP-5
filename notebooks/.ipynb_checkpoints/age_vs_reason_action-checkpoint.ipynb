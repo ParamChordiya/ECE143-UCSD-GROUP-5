{
 "cells": [
  {
   "cell_type": "code",
   "execution_count": 1,
   "metadata": {
    "_cell_guid": "b1076dfc-b9ad-4769-8c92-a6c4dae69d19",
    "_uuid": "8f2839f25d086af736a60e9eeb907d3b93b6e0e5",
    "execution": {
     "iopub.execute_input": "2023-11-29T02:43:36.712297Z",
     "iopub.status.busy": "2023-11-29T02:43:36.711642Z",
     "iopub.status.idle": "2023-11-29T02:43:37.042538Z",
     "shell.execute_reply": "2023-11-29T02:43:37.041202Z",
     "shell.execute_reply.started": "2023-11-29T02:43:36.712265Z"
    }
   },
   "outputs": [],
   "source": [
    "import numpy as np # linear algebra\n",
    "import pandas as pd \n",
    "import collections\n",
    "import matplotlib.pyplot as plt\n",
    "%matplotlib inline"
   ]
  },
  {
   "cell_type": "code",
   "execution_count": 3,
   "metadata": {
    "execution": {
     "iopub.execute_input": "2023-11-29T02:43:37.053760Z",
     "iopub.status.busy": "2023-11-29T02:43:37.053252Z",
     "iopub.status.idle": "2023-11-29T02:43:39.593775Z",
     "shell.execute_reply": "2023-11-29T02:43:39.592191Z",
     "shell.execute_reply.started": "2023-11-29T02:43:37.053731Z"
    }
   },
   "outputs": [],
   "source": [
    "data_2014 = pd.read_csv('../dataset/vehicle_stops_2014_datasd.csv')\n",
    "data_2015 = pd.read_csv('../dataset/vehicle_stops_2015_datasd.csv')\n",
    "data_2016 = pd.read_csv('../dataset/vehicle_stops_2016_datasd.csv')\n",
    "data_2017 = pd.read_csv('../dataset/vehicle_stops_2017_datasd.csv')\n",
    "data_combined = pd.read_csv('../dataset/final_combined_dataset_v2.csv')"
   ]
  },
  {
   "cell_type": "code",
   "execution_count": 5,
   "metadata": {
    "execution": {
     "iopub.execute_input": "2023-11-29T02:43:39.595600Z",
     "iopub.status.busy": "2023-11-29T02:43:39.595249Z",
     "iopub.status.idle": "2023-11-29T02:43:39.613548Z",
     "shell.execute_reply": "2023-11-29T02:43:39.612104Z",
     "shell.execute_reply.started": "2023-11-29T02:43:39.595569Z"
    }
   },
   "outputs": [],
   "source": [
    "### Creating a race_dictionary\n",
    "race_csv = pd.read_csv('../dataset/vehicle_stops_race_codes.csv')\n",
    "race_dict = collections.defaultdict(str)\n",
    "\n",
    "for i in range(len(race_csv)):\n",
    "    race_dict[race_csv['Race Code'][i]] = race_csv['Description'][i]"
   ]
  },
  {
   "cell_type": "code",
   "execution_count": 6,
   "metadata": {
    "execution": {
     "iopub.execute_input": "2023-11-29T02:43:39.616821Z",
     "iopub.status.busy": "2023-11-29T02:43:39.616527Z",
     "iopub.status.idle": "2023-11-29T02:43:39.654992Z",
     "shell.execute_reply": "2023-11-29T02:43:39.653799Z",
     "shell.execute_reply.started": "2023-11-29T02:43:39.616798Z"
    }
   },
   "outputs": [
    {
     "name": "stdout",
     "output_type": "stream",
     "text": [
      "Total unique violations:- 23\n"
     ]
    }
   ],
   "source": [
    "### Total unique violations\n",
    "print(\"Total unique violations:-\",len(data_combined['stop_cause'].unique()))"
   ]
  },
  {
   "cell_type": "markdown",
   "metadata": {},
   "source": [
    "### Stop Causes"
   ]
  },
  {
   "cell_type": "code",
   "execution_count": 7,
   "metadata": {
    "execution": {
     "iopub.execute_input": "2023-11-29T02:43:39.657045Z",
     "iopub.status.busy": "2023-11-29T02:43:39.656711Z",
     "iopub.status.idle": "2023-11-29T02:43:39.694244Z",
     "shell.execute_reply": "2023-11-29T02:43:39.692730Z",
     "shell.execute_reply.started": "2023-11-29T02:43:39.657022Z"
    }
   },
   "outputs": [
    {
     "data": {
      "text/plain": [
       "Moving Violation                      306175\n",
       "Equipment Violation                   122452\n",
       "Radio Call/Citizen Contact              2902\n",
       "Muni, County, H&S Code                  1971\n",
       "Personal Knowledge/Informant            1586\n",
       "Suspect Info (I.S., Bulletin, Log)      1163\n",
       "No Cause Specified on a Card             544\n",
       "Personal Observ/Knowledge                259\n",
       "UNI, &County, H&&S Code                   80\n",
       "&Moving Violation                         68\n",
       "Suspect Info                              49\n",
       "MUNI, County, H&S Code                    45\n",
       "Other                                     32\n",
       "&Equipment Violation                      10\n",
       "not marked                                 5\n",
       "none listed                                5\n",
       "NOT SPECIFIED                              2\n",
       "not marked  not marked                     2\n",
       "NOT MARKED                                 2\n",
       "&Radio Call/Citizen Contact                2\n",
       "not noted                                  2\n",
       "not listed                                 1\n",
       "no cause listed                            1\n",
       "Name: stop_cause, dtype: int64"
      ]
     },
     "execution_count": 7,
     "metadata": {},
     "output_type": "execute_result"
    }
   ],
   "source": [
    "data_combined['stop_cause'].value_counts()"
   ]
  },
  {
   "cell_type": "markdown",
   "metadata": {},
   "source": [
    "### Stop by Race"
   ]
  },
  {
   "cell_type": "code",
   "execution_count": 8,
   "metadata": {
    "execution": {
     "iopub.execute_input": "2023-11-29T02:43:39.696149Z",
     "iopub.status.busy": "2023-11-29T02:43:39.695810Z",
     "iopub.status.idle": "2023-11-29T02:43:39.718605Z",
     "shell.execute_reply": "2023-11-29T02:43:39.717145Z",
     "shell.execute_reply.started": "2023-11-29T02:43:39.696123Z"
    }
   },
   "outputs": [],
   "source": [
    "race_list = list(data_combined['subject_race'].value_counts())"
   ]
  },
  {
   "cell_type": "code",
   "execution_count": 9,
   "metadata": {
    "execution": {
     "iopub.execute_input": "2023-11-29T02:43:39.721532Z",
     "iopub.status.busy": "2023-11-29T02:43:39.721005Z",
     "iopub.status.idle": "2023-11-29T02:43:39.763433Z",
     "shell.execute_reply": "2023-11-29T02:43:39.762310Z",
     "shell.execute_reply.started": "2023-11-29T02:43:39.721495Z"
    }
   },
   "outputs": [
    {
     "data": {
      "text/plain": [
       "1819      33\n",
       "1820      33\n",
       "7121      65\n",
       "20038     16\n",
       "37289     27\n",
       "          ..\n",
       "409509    21\n",
       "409907    32\n",
       "429379    28\n",
       "429755    80\n",
       "436589    52\n",
       "Name: subject_age, Length: 79, dtype: object"
      ]
     },
     "execution_count": 9,
     "metadata": {},
     "output_type": "execute_result"
    }
   ],
   "source": [
    "data_combined[data_combined['subject_race'] == 'U']['subject_age']"
   ]
  },
  {
   "cell_type": "code",
   "execution_count": null,
   "metadata": {
    "execution": {
     "iopub.execute_input": "2023-11-29T02:43:39.765156Z",
     "iopub.status.busy": "2023-11-29T02:43:39.764858Z",
     "iopub.status.idle": "2023-11-29T02:44:10.407308Z",
     "shell.execute_reply": "2023-11-29T02:44:10.405662Z",
     "shell.execute_reply.started": "2023-11-29T02:43:39.765132Z"
    }
   },
   "outputs": [],
   "source": [
    "l = [str(i) for i in range(1,121)]\n",
    "remove = []\n",
    "for i in range(len(data_combined)):\n",
    "    \n",
    "    if data_combined.iloc[i]['subject_age'] not in l:\n",
    "        remove.append(i)\n",
    "    \n",
    "data_combined=data_combined.drop(remove)"
   ]
  },
  {
   "cell_type": "code",
   "execution_count": null,
   "metadata": {
    "execution": {
     "iopub.execute_input": "2023-11-29T02:44:10.409892Z",
     "iopub.status.busy": "2023-11-29T02:44:10.409509Z",
     "iopub.status.idle": "2023-11-29T02:44:10.446590Z",
     "shell.execute_reply": "2023-11-29T02:44:10.445239Z",
     "shell.execute_reply.started": "2023-11-29T02:44:10.409856Z"
    }
   },
   "outputs": [],
   "source": [
    "data_combined['subject_age'] = data_combined['subject_age'].astype(int)"
   ]
  },
  {
   "cell_type": "markdown",
   "metadata": {},
   "source": [
    "### Pullover probability vs age for every Race"
   ]
  },
  {
   "cell_type": "code",
   "execution_count": null,
   "metadata": {
    "execution": {
     "iopub.execute_input": "2023-11-29T02:44:10.449006Z",
     "iopub.status.busy": "2023-11-29T02:44:10.448643Z",
     "iopub.status.idle": "2023-11-29T02:44:16.120445Z",
     "shell.execute_reply": "2023-11-29T02:44:16.119077Z",
     "shell.execute_reply.started": "2023-11-29T02:44:10.448979Z"
    }
   },
   "outputs": [],
   "source": [
    "race_limited = ['B','C','I','W','Z']\n",
    "fig, ax = plt.subplots()\n",
    "ax.set_xlim(15, 75)\n",
    "\n",
    "for race in data_combined['subject_race'].unique():\n",
    "    if race not in race_limited:\n",
    "        continue\n",
    "    s = data_combined[data_combined['subject_race'] ==race]['subject_age']\n",
    "    s.plot.kde(ax=ax, label=race_dict[race])\n",
    "ax.legend()\n",
    "#print(s) "
   ]
  },
  {
   "cell_type": "markdown",
   "metadata": {},
   "source": [
    "### Pullover probability vs age for Asian Indians and Chinese"
   ]
  },
  {
   "cell_type": "code",
   "execution_count": null,
   "metadata": {
    "execution": {
     "iopub.execute_input": "2023-11-29T02:44:16.122801Z",
     "iopub.status.busy": "2023-11-29T02:44:16.122426Z",
     "iopub.status.idle": "2023-11-29T02:44:16.510611Z",
     "shell.execute_reply": "2023-11-29T02:44:16.508706Z",
     "shell.execute_reply.started": "2023-11-29T02:44:16.122775Z"
    }
   },
   "outputs": [],
   "source": [
    "race_limited = ['C','Z']\n",
    "fig, ax = plt.subplots()\n",
    "ax.set_xlim(15, 75)\n",
    "\n",
    "for race in data_combined['subject_race'].unique():\n",
    "    if race not in race_limited:\n",
    "        continue\n",
    "    s = data_combined[data_combined['subject_race'] ==race]['subject_age']\n",
    "    s.plot.kde(ax=ax, label=race_dict[race])\n",
    "ax.legend()"
   ]
  },
  {
   "cell_type": "markdown",
   "metadata": {},
   "source": [
    "### What does this graph tells us? \n",
    "### ->Observe that the peak values for the two graphs are different. The chines peak comes around the age of 26/17 whereas the Indian Peak comes around the age of 32 33. We can infer that an Indian guy will have better probability of possessing a car in his 30's as compared to his 20's which makes sense, as more pullover per race at any age indicates more cars per race at any age  \n",
    "\n",
    "\n",
    "### What is the significance of this information? \n",
    "### "
   ]
  },
  {
   "cell_type": "code",
   "execution_count": null,
   "metadata": {
    "execution": {
     "iopub.execute_input": "2023-11-29T02:44:16.513027Z",
     "iopub.status.busy": "2023-11-29T02:44:16.512571Z",
     "iopub.status.idle": "2023-11-29T02:44:25.349196Z",
     "shell.execute_reply": "2023-11-29T02:44:25.347610Z",
     "shell.execute_reply.started": "2023-11-29T02:44:16.512928Z"
    }
   },
   "outputs": [],
   "source": [
    "#race_limited = ['B','C','I','W','Z']\n",
    "stop_reason = ['Moving Violation',                      \n",
    "'Equipment Violation',                   \n",
    "'Radio Call/Citizen Contact']              \n",
    "fig, ax = plt.subplots()\n",
    "ax.set_xlim(15, 75)\n",
    "\n",
    "for cause in data_combined['stop_cause'].unique():\n",
    "    if cause not in stop_reason:\n",
    "        continue\n",
    "    s = data_combined[data_combined['stop_cause'] ==cause]['subject_age']\n",
    "    s.plot.kde(ax=ax, label=cause)\n",
    "ax.legend()"
   ]
  },
  {
   "cell_type": "code",
   "execution_count": null,
   "metadata": {
    "execution": {
     "iopub.execute_input": "2023-11-29T02:44:25.352630Z",
     "iopub.status.busy": "2023-11-29T02:44:25.352245Z",
     "iopub.status.idle": "2023-11-29T02:44:25.358891Z",
     "shell.execute_reply": "2023-11-29T02:44:25.357064Z",
     "shell.execute_reply.started": "2023-11-29T02:44:25.352603Z"
    }
   },
   "outputs": [],
   "source": [
    "def plot_histogram(race):\n",
    "    \n",
    "   \n",
    "        \n",
    "    d= data_combined[data_combined['subject_race']==race]['stop_cause'].value_counts()\n",
    "    print(d[0])"
   ]
  },
  {
   "cell_type": "code",
   "execution_count": null,
   "metadata": {
    "execution": {
     "iopub.execute_input": "2023-11-29T02:44:25.361337Z",
     "iopub.status.busy": "2023-11-29T02:44:25.360994Z",
     "iopub.status.idle": "2023-11-29T02:44:25.416250Z",
     "shell.execute_reply": "2023-11-29T02:44:25.414918Z",
     "shell.execute_reply.started": "2023-11-29T02:44:25.361310Z"
    }
   },
   "outputs": [],
   "source": [
    "plot_histogram('B')"
   ]
  },
  {
   "cell_type": "code",
   "execution_count": null,
   "metadata": {},
   "outputs": [],
   "source": []
  }
 ],
 "metadata": {
  "kaggle": {
   "accelerator": "none",
   "dataSources": [
    {
     "datasetId": 3981620,
     "sourceId": 7022780,
     "sourceType": "datasetVersion"
    }
   ],
   "dockerImageVersionId": 30587,
   "isGpuEnabled": false,
   "isInternetEnabled": true,
   "language": "python",
   "sourceType": "notebook"
  },
  "kernelspec": {
   "display_name": "Python 3 (ipykernel)",
   "language": "python",
   "name": "python3"
  },
  "language_info": {
   "codemirror_mode": {
    "name": "ipython",
    "version": 3
   },
   "file_extension": ".py",
   "mimetype": "text/x-python",
   "name": "python",
   "nbconvert_exporter": "python",
   "pygments_lexer": "ipython3",
   "version": "3.10.11"
  }
 },
 "nbformat": 4,
 "nbformat_minor": 4
}
