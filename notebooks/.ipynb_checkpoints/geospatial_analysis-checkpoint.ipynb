{
 "cells": [
  {
   "cell_type": "markdown",
   "metadata": {},
   "source": [
    "# <center> Geospatial Analysis </center>"
   ]
  },
  {
   "cell_type": "code",
   "execution_count": 4,
   "metadata": {
    "_cell_guid": "b1076dfc-b9ad-4769-8c92-a6c4dae69d19",
    "_uuid": "8f2839f25d086af736a60e9eeb907d3b93b6e0e5",
    "execution": {
     "iopub.execute_input": "2023-12-01T00:01:43.367585Z",
     "iopub.status.busy": "2023-12-01T00:01:43.367144Z",
     "iopub.status.idle": "2023-12-01T00:01:43.382237Z",
     "shell.execute_reply": "2023-12-01T00:01:43.380975Z",
     "shell.execute_reply.started": "2023-12-01T00:01:43.367552Z"
    }
   },
   "outputs": [],
   "source": [
    "import numpy as np \n",
    "import pandas as pd \n",
    "import matplotlib.pyplot as plt\n",
    "import geopandas"
   ]
  },
  {
   "cell_type": "code",
   "execution_count": 5,
   "metadata": {
    "execution": {
     "iopub.execute_input": "2023-12-01T00:01:43.392268Z",
     "iopub.status.busy": "2023-12-01T00:01:43.391568Z",
     "iopub.status.idle": "2023-12-01T00:01:43.402188Z",
     "shell.execute_reply": "2023-12-01T00:01:43.401339Z",
     "shell.execute_reply.started": "2023-12-01T00:01:43.392231Z"
    }
   },
   "outputs": [],
   "source": [
    "pd.options.display.max_rows = 10"
   ]
  },
  {
   "cell_type": "code",
   "execution_count": 6,
   "metadata": {
    "execution": {
     "iopub.execute_input": "2023-12-01T00:01:43.404962Z",
     "iopub.status.busy": "2023-12-01T00:01:43.404498Z",
     "iopub.status.idle": "2023-12-01T00:01:43.907012Z",
     "shell.execute_reply": "2023-12-01T00:01:43.906029Z",
     "shell.execute_reply.started": "2023-12-01T00:01:43.404936Z"
    }
   },
   "outputs": [],
   "source": [
    "df_divisions = geopandas.read_file(\"../dataset/pd_divisions_datasd\")\n",
    "df_beats = geopandas.read_file(\"../dataset/pd_beats_datasd\")\n",
    "df_stops = pd.read_csv('../dataset/final_combined_dataset_v3.csv')"
   ]
  },
  {
   "cell_type": "code",
   "execution_count": 7,
   "metadata": {
    "execution": {
     "iopub.execute_input": "2023-12-01T00:01:43.908676Z",
     "iopub.status.busy": "2023-12-01T00:01:43.908352Z",
     "iopub.status.idle": "2023-12-01T00:01:43.915774Z",
     "shell.execute_reply": "2023-12-01T00:01:43.914511Z",
     "shell.execute_reply.started": "2023-12-01T00:01:43.908648Z"
    }
   },
   "outputs": [],
   "source": [
    "def construct_beats(input_beats):\n",
    "    '''\n",
    "    Construct the dataframe for beats.\n",
    "    This function uses global dfs.\n",
    "    \n",
    "    :param input_beats: beats dataframe.\n",
    "    :type input_beats: pandas dataframe.\n",
    "    :returns: pandas dataframe\n",
    "    '''\n",
    "    \n",
    "    #Construct the dataframe for beats. This is used to merge and get the divisions.\n",
    "    beats_dataframe = input_beats[['serv', 'div']]\n",
    "    beats_dataframe = beats_dataframe.groupby('serv').first()\n",
    "    beats_dataframe = beats_dataframe[['div']]\n",
    "    \n",
    "    #clean the indices and datatypes\n",
    "    beats_dataframe = beats_dataframe.reset_index()\n",
    "    beats_dataframe['serv'] = beats_dataframe['serv'].astype(int)\n",
    "    \n",
    "    return beats_dataframe"
   ]
  },
  {
   "cell_type": "code",
   "execution_count": 8,
   "metadata": {
    "execution": {
     "iopub.execute_input": "2023-12-01T00:01:43.917985Z",
     "iopub.status.busy": "2023-12-01T00:01:43.917582Z",
     "iopub.status.idle": "2023-12-01T00:01:43.942036Z",
     "shell.execute_reply": "2023-12-01T00:01:43.940661Z",
     "shell.execute_reply.started": "2023-12-01T00:01:43.917955Z"
    }
   },
   "outputs": [
    {
     "data": {
      "text/html": [
       "<div>\n",
       "<style scoped>\n",
       "    .dataframe tbody tr th:only-of-type {\n",
       "        vertical-align: middle;\n",
       "    }\n",
       "\n",
       "    .dataframe tbody tr th {\n",
       "        vertical-align: top;\n",
       "    }\n",
       "\n",
       "    .dataframe thead th {\n",
       "        text-align: right;\n",
       "    }\n",
       "</style>\n",
       "<table border=\"1\" class=\"dataframe\">\n",
       "  <thead>\n",
       "    <tr style=\"text-align: right;\">\n",
       "      <th></th>\n",
       "      <th>serv</th>\n",
       "      <th>div</th>\n",
       "    </tr>\n",
       "  </thead>\n",
       "  <tbody>\n",
       "    <tr>\n",
       "      <th>0</th>\n",
       "      <td>0</td>\n",
       "      <td>0</td>\n",
       "    </tr>\n",
       "    <tr>\n",
       "      <th>1</th>\n",
       "      <td>110</td>\n",
       "      <td>1</td>\n",
       "    </tr>\n",
       "    <tr>\n",
       "      <th>2</th>\n",
       "      <td>120</td>\n",
       "      <td>1</td>\n",
       "    </tr>\n",
       "    <tr>\n",
       "      <th>3</th>\n",
       "      <td>230</td>\n",
       "      <td>2</td>\n",
       "    </tr>\n",
       "    <tr>\n",
       "      <th>4</th>\n",
       "      <td>240</td>\n",
       "      <td>2</td>\n",
       "    </tr>\n",
       "    <tr>\n",
       "      <th>...</th>\n",
       "      <td>...</td>\n",
       "      <td>...</td>\n",
       "    </tr>\n",
       "    <tr>\n",
       "      <th>15</th>\n",
       "      <td>720</td>\n",
       "      <td>7</td>\n",
       "    </tr>\n",
       "    <tr>\n",
       "      <th>16</th>\n",
       "      <td>810</td>\n",
       "      <td>8</td>\n",
       "    </tr>\n",
       "    <tr>\n",
       "      <th>17</th>\n",
       "      <td>820</td>\n",
       "      <td>8</td>\n",
       "    </tr>\n",
       "    <tr>\n",
       "      <th>18</th>\n",
       "      <td>830</td>\n",
       "      <td>8</td>\n",
       "    </tr>\n",
       "    <tr>\n",
       "      <th>19</th>\n",
       "      <td>930</td>\n",
       "      <td>9</td>\n",
       "    </tr>\n",
       "  </tbody>\n",
       "</table>\n",
       "<p>20 rows × 2 columns</p>\n",
       "</div>"
      ],
      "text/plain": [
       "    serv  div\n",
       "0      0    0\n",
       "1    110    1\n",
       "2    120    1\n",
       "3    230    2\n",
       "4    240    2\n",
       "..   ...  ...\n",
       "15   720    7\n",
       "16   810    8\n",
       "17   820    8\n",
       "18   830    8\n",
       "19   930    9\n",
       "\n",
       "[20 rows x 2 columns]"
      ]
     },
     "execution_count": 8,
     "metadata": {},
     "output_type": "execute_result"
    }
   ],
   "source": [
    "construct_beats(df_beats)"
   ]
  },
  {
   "cell_type": "code",
   "execution_count": 9,
   "metadata": {
    "execution": {
     "iopub.execute_input": "2023-12-01T00:01:43.945049Z",
     "iopub.status.busy": "2023-12-01T00:01:43.943662Z",
     "iopub.status.idle": "2023-12-01T00:01:43.952716Z",
     "shell.execute_reply": "2023-12-01T00:01:43.951585Z",
     "shell.execute_reply.started": "2023-12-01T00:01:43.945013Z"
    }
   },
   "outputs": [],
   "source": [
    "def divsums(count, beats, divisions):\n",
    "    '''\n",
    "    This function returns the geopandas dataframe which has both geometric specifications from beats and count per location obtained from count.\n",
    "    \n",
    "    :type count: pandas dataframe.\n",
    "    :param count: pandas dataframe, which contains the data which is used to corelate with beats.\n",
    "    :type beats: pandas dataframe.\n",
    "    :param beats: location dataframe.\n",
    "    :type divisions: geopandas dataframe\n",
    "    :param divisions: filename for source text \n",
    "    :returns: geopandas dataframe\n",
    "    '''\n",
    "    # clean the count dataframe\n",
    "    count_clean = count.reset_index()\n",
    "    count_clean['service_area'] = count_clean['service_area'].astype(int)\n",
    "   \n",
    "    # Joining the count to the beats dataframe\n",
    "    count_wrt_serv = beats.join(count_clean.set_index('service_area'), on='serv').dropna()\n",
    "    count_wrt_serv[['arrested']] = count_wrt_serv[['arrested']].fillna(0)\n",
    "    \n",
    "    # Joining the above dataframe with division dataframe\n",
    "    count_wrt_serv = count_wrt_serv.groupby('div').sum()['arrested']\n",
    "    return divisions.join(count_wrt_serv, on='div_num')"
   ]
  },
  {
   "cell_type": "code",
   "execution_count": 10,
   "metadata": {
    "execution": {
     "iopub.execute_input": "2023-12-01T00:01:43.954140Z",
     "iopub.status.busy": "2023-12-01T00:01:43.953842Z",
     "iopub.status.idle": "2023-12-01T00:01:43.971815Z",
     "shell.execute_reply": "2023-12-01T00:01:43.971127Z",
     "shell.execute_reply.started": "2023-12-01T00:01:43.954109Z"
    }
   },
   "outputs": [
    {
     "name": "stdout",
     "output_type": "stream",
     "text": [
      "        service_area  arrested\n",
      "0                830         0\n",
      "1                830         0\n",
      "2                830         0\n",
      "3                610         0\n",
      "4                810         0\n",
      "...              ...       ...\n",
      "430471           110         0\n",
      "430472           710         0\n",
      "430473           520         0\n",
      "430474           310         0\n",
      "430475           310         0\n",
      "\n",
      "[430476 rows x 2 columns]\n"
     ]
    }
   ],
   "source": [
    "df_stops_serive_area = df_stops[['service_area', 'arrested']]\n",
    "print(df_stops_serive_area)"
   ]
  },
  {
   "cell_type": "code",
   "execution_count": 11,
   "metadata": {
    "execution": {
     "iopub.execute_input": "2023-12-01T00:01:43.973215Z",
     "iopub.status.busy": "2023-12-01T00:01:43.972543Z",
     "iopub.status.idle": "2023-12-01T00:01:43.983143Z",
     "shell.execute_reply": "2023-12-01T00:01:43.982171Z",
     "shell.execute_reply.started": "2023-12-01T00:01:43.973186Z"
    }
   },
   "outputs": [],
   "source": [
    "def plot_map(input_geopandasdf):\n",
    "    '''\n",
    "    This function plots the geopandas dataframe. This dataframe contains information of count per division in geopandas dataframe.\n",
    "    \n",
    "    :type input_geopandasdf: geopandas dataframe\n",
    "    :param input_geopandasdf: geopandas dataframee containing count inforamtion per division and geographical specifications of the division.\n",
    "    '''\n",
    "    ax = input_geopandasdf.plot(column='arrested', figsize=(25, 9), cmap='Blues', legend=True)\n",
    "    input_geopandasdf.apply(lambda x: ax.annotate(text=x.div_name.capitalize(), xy=x.geometry.centroid.coords[0], ha='center'),axis=1)\n",
    "    ax.set_axis_off()"
   ]
  },
  {
   "cell_type": "code",
   "execution_count": 12,
   "metadata": {
    "execution": {
     "iopub.execute_input": "2023-12-01T00:01:43.987510Z",
     "iopub.status.busy": "2023-12-01T00:01:43.986635Z",
     "iopub.status.idle": "2023-12-01T00:01:43.994285Z",
     "shell.execute_reply": "2023-12-01T00:01:43.993590Z",
     "shell.execute_reply.started": "2023-12-01T00:01:43.987476Z"
    }
   },
   "outputs": [],
   "source": [
    "def stop_data_for_plotting(stops, beats, divisions):\n",
    "    '''\n",
    "    This function cleans the dataframe data. returns a geopandas dataframe for stop count which can be plotted.\n",
    "    \n",
    "    :type stops: pandas dataframe.\n",
    "    :param stops: filename for source text.\n",
    "    :param input_beats: beats dataframe.\n",
    "    :type input_beats: pandas dataframe.\n",
    "    :type divisions: geopandas dataframe\n",
    "    :param divisions: filename for source text \n",
    "    :returns: geopandas dataframe for stop count which can be plotted. \n",
    "    '''\n",
    "    # Cleanup data\n",
    "    df_stops_serive_area = stops[['service_area', 'arrested']]\n",
    "    \n",
    "    # Build counts\n",
    "    # Amount of stops per service area\n",
    "    stop_count = df_stops_serive_area.groupby('service_area').count()\n",
    "    # Build beats\n",
    "    beats_dataframe = construct_beats(beats)\n",
    "    \n",
    "    # Build divsums\n",
    "    divsums_stop_dataframe = divsums(stop_count, beats_dataframe, divisions)\n",
    "    return divsums_stop_dataframe"
   ]
  },
  {
   "cell_type": "code",
   "execution_count": 13,
   "metadata": {
    "execution": {
     "iopub.execute_input": "2023-12-01T00:01:43.995653Z",
     "iopub.status.busy": "2023-12-01T00:01:43.995375Z",
     "iopub.status.idle": "2023-12-01T00:01:44.267991Z",
     "shell.execute_reply": "2023-12-01T00:01:44.267355Z",
     "shell.execute_reply.started": "2023-12-01T00:01:43.995630Z"
    }
   },
   "outputs": [
    {
     "data": {
      "text/html": [
       "<div>\n",
       "<style scoped>\n",
       "    .dataframe tbody tr th:only-of-type {\n",
       "        vertical-align: middle;\n",
       "    }\n",
       "\n",
       "    .dataframe tbody tr th {\n",
       "        vertical-align: top;\n",
       "    }\n",
       "\n",
       "    .dataframe thead th {\n",
       "        text-align: right;\n",
       "    }\n",
       "</style>\n",
       "<table border=\"1\" class=\"dataframe\">\n",
       "  <thead>\n",
       "    <tr style=\"text-align: right;\">\n",
       "      <th></th>\n",
       "      <th>objectid</th>\n",
       "      <th>div_num</th>\n",
       "      <th>div_name</th>\n",
       "      <th>geometry</th>\n",
       "      <th>arrested</th>\n",
       "    </tr>\n",
       "  </thead>\n",
       "  <tbody>\n",
       "    <tr>\n",
       "      <th>0</th>\n",
       "      <td>1</td>\n",
       "      <td>1</td>\n",
       "      <td>NORTHERN</td>\n",
       "      <td>POLYGON ((6257399.474 1913720.405, 6258021.781...</td>\n",
       "      <td>61616</td>\n",
       "    </tr>\n",
       "    <tr>\n",
       "      <th>1</th>\n",
       "      <td>2</td>\n",
       "      <td>2</td>\n",
       "      <td>NORTHEASTERN</td>\n",
       "      <td>POLYGON ((6329136.046 1985638.386, 6329132.056...</td>\n",
       "      <td>51280</td>\n",
       "    </tr>\n",
       "    <tr>\n",
       "      <th>2</th>\n",
       "      <td>3</td>\n",
       "      <td>3</td>\n",
       "      <td>EASTERN</td>\n",
       "      <td>POLYGON ((6321693.529 1885496.923, 6320946.312...</td>\n",
       "      <td>56285</td>\n",
       "    </tr>\n",
       "    <tr>\n",
       "      <th>3</th>\n",
       "      <td>4</td>\n",
       "      <td>5</td>\n",
       "      <td>CENTRAL</td>\n",
       "      <td>POLYGON ((6287304.000 1850636.000, 6287303.000...</td>\n",
       "      <td>51538</td>\n",
       "    </tr>\n",
       "    <tr>\n",
       "      <th>4</th>\n",
       "      <td>5</td>\n",
       "      <td>6</td>\n",
       "      <td>WESTERN</td>\n",
       "      <td>POLYGON ((6280788.358 1873275.706, 6280793.053...</td>\n",
       "      <td>42274</td>\n",
       "    </tr>\n",
       "    <tr>\n",
       "      <th>5</th>\n",
       "      <td>6</td>\n",
       "      <td>7</td>\n",
       "      <td>SOUTHERN</td>\n",
       "      <td>POLYGON ((6294084.233 1801858.103, 6294115.999...</td>\n",
       "      <td>44716</td>\n",
       "    </tr>\n",
       "    <tr>\n",
       "      <th>6</th>\n",
       "      <td>7</td>\n",
       "      <td>8</td>\n",
       "      <td>MID-CITY</td>\n",
       "      <td>POLYGON ((6300696.000 1863112.000, 6300797.593...</td>\n",
       "      <td>50207</td>\n",
       "    </tr>\n",
       "    <tr>\n",
       "      <th>7</th>\n",
       "      <td>8</td>\n",
       "      <td>9</td>\n",
       "      <td>NORTHWESTERN</td>\n",
       "      <td>POLYGON ((6290347.459 1952824.477, 6290674.051...</td>\n",
       "      <td>22194</td>\n",
       "    </tr>\n",
       "    <tr>\n",
       "      <th>8</th>\n",
       "      <td>9</td>\n",
       "      <td>4</td>\n",
       "      <td>SOUTHEASTERN</td>\n",
       "      <td>POLYGON ((6314753.250 1851441.908, 6314774.253...</td>\n",
       "      <td>38319</td>\n",
       "    </tr>\n",
       "  </tbody>\n",
       "</table>\n",
       "</div>"
      ],
      "text/plain": [
       "   objectid  div_num      div_name  \\\n",
       "0         1        1      NORTHERN   \n",
       "1         2        2  NORTHEASTERN   \n",
       "2         3        3       EASTERN   \n",
       "3         4        5       CENTRAL   \n",
       "4         5        6       WESTERN   \n",
       "5         6        7      SOUTHERN   \n",
       "6         7        8      MID-CITY   \n",
       "7         8        9  NORTHWESTERN   \n",
       "8         9        4  SOUTHEASTERN   \n",
       "\n",
       "                                            geometry  arrested  \n",
       "0  POLYGON ((6257399.474 1913720.405, 6258021.781...     61616  \n",
       "1  POLYGON ((6329136.046 1985638.386, 6329132.056...     51280  \n",
       "2  POLYGON ((6321693.529 1885496.923, 6320946.312...     56285  \n",
       "3  POLYGON ((6287304.000 1850636.000, 6287303.000...     51538  \n",
       "4  POLYGON ((6280788.358 1873275.706, 6280793.053...     42274  \n",
       "5  POLYGON ((6294084.233 1801858.103, 6294115.999...     44716  \n",
       "6  POLYGON ((6300696.000 1863112.000, 6300797.593...     50207  \n",
       "7  POLYGON ((6290347.459 1952824.477, 6290674.051...     22194  \n",
       "8  POLYGON ((6314753.250 1851441.908, 6314774.253...     38319  "
      ]
     },
     "execution_count": 13,
     "metadata": {},
     "output_type": "execute_result"
    }
   ],
   "source": [
    "stop_data_for_plotting(df_stops, df_beats, df_divisions)"
   ]
  },
  {
   "cell_type": "code",
   "execution_count": 14,
   "metadata": {
    "execution": {
     "iopub.execute_input": "2023-12-01T00:01:44.269576Z",
     "iopub.status.busy": "2023-12-01T00:01:44.269321Z",
     "iopub.status.idle": "2023-12-01T00:01:44.564483Z",
     "shell.execute_reply": "2023-12-01T00:01:44.563689Z",
     "shell.execute_reply.started": "2023-12-01T00:01:44.269554Z"
    }
   },
   "outputs": [
    {
     "data": {
      "image/png": "[encoded data removed]",
      "text/plain": [
       "<Figure size 1800x648 with 2 Axes>"
      ]
     },
     "metadata": {
      "needs_background": "light"
     },
     "output_type": "display_data"
    }
   ],
   "source": [
    "stop_data_div = stop_data_for_plotting(df_stops, df_beats, df_divisions)\n",
    "plot_map(stop_data_div)"
   ]
  },
  {
   "cell_type": "code",
   "execution_count": 15,
   "metadata": {
    "execution": {
     "iopub.execute_input": "2023-12-01T00:01:44.566174Z",
     "iopub.status.busy": "2023-12-01T00:01:44.565840Z",
     "iopub.status.idle": "2023-12-01T00:01:44.572432Z",
     "shell.execute_reply": "2023-12-01T00:01:44.571144Z",
     "shell.execute_reply.started": "2023-12-01T00:01:44.566148Z"
    }
   },
   "outputs": [],
   "source": [
    "def arrest_data_for_plotting(stops, beats, divisions):\n",
    "    '''\n",
    "    This function cleans the dataframe data. returns a geopandas dataframe for arrest count which can be plotted.\n",
    "    \n",
    "    :type stops: pandas dataframe.\n",
    "    :param stops: filename for source text.\n",
    "    :param input_beats: beats dataframe.\n",
    "    :type input_beats: pandas dataframe.\n",
    "    :type divisions: geopandas dataframe\n",
    "    :param divisions: filename for source text \n",
    "    :returns: geopandas dataframe for arrest count which can be plotted. \n",
    "    '''\n",
    "    # Cleanup data\n",
    "    df_stops_serive_area = stops[['service_area', 'arrested']]\n",
    "    \n",
    "    # Build counts\n",
    "    # Amount of stops per service area\n",
    "    stop_count = df_stops_serive_area.groupby('service_area').count()\n",
    "    \n",
    "    arrested_final_count = df_stops_serive_area.loc[df_stops_serive_area['arrested'] == 1].groupby('service_area').count()\n",
    "    probability_of_arrest = (arrested_final_count/stop_count).fillna(0)\n",
    "  \n",
    "    # Build beats\n",
    "    beats_dataframe = construct_beats(beats)\n",
    "    \n",
    "    # Build divsums\n",
    "    divsums_arrest_dataframe = divsums(probability_of_arrest, beats_dataframe, divisions)\n",
    "    return divsums_arrest_dataframe"
   ]
  },
  {
   "cell_type": "code",
   "execution_count": 16,
   "metadata": {
    "execution": {
     "iopub.execute_input": "2023-12-01T00:01:44.573822Z",
     "iopub.status.busy": "2023-12-01T00:01:44.573536Z",
     "iopub.status.idle": "2023-12-01T00:01:44.904902Z",
     "shell.execute_reply": "2023-12-01T00:01:44.903890Z",
     "shell.execute_reply.started": "2023-12-01T00:01:44.573801Z"
    }
   },
   "outputs": [
    {
     "data": {
      "image/png": "[encoded data removed]",
      "text/plain": [
       "<Figure size 1800x648 with 2 Axes>"
      ]
     },
     "metadata": {
      "needs_background": "light"
     },
     "output_type": "display_data"
    }
   ],
   "source": [
    "arrest_data_div = arrest_data_for_plotting(df_stops, df_beats, df_divisions)\n",
    "plot_map(arrest_data_div)"
   ]
  },
  {
   "cell_type": "markdown",
   "metadata": {},
   "source": [
    "# <center> Geospatial Analysis Ends </center>"
   ]
  },
  {
   "cell_type": "code",
   "execution_count": null,
   "metadata": {},
   "outputs": [],
   "source": []
  }
 ],
 "metadata": {
  "kaggle": {
   "accelerator": "none",
   "dataSources": [
    {
     "datasetId": 3981620,
     "sourceId": 7022780,
     "sourceType": "datasetVersion"
    }
   ],
   "dockerImageVersionId": 30587,
   "isGpuEnabled": false,
   "isInternetEnabled": true,
   "language": "python",
   "sourceType": "notebook"
  },
  "kernelspec": {
   "display_name": "Python 3 (ipykernel)",
   "language": "python",
   "name": "python3"
  },
  "language_info": {
   "codemirror_mode": {
    "name": "ipython",
    "version": 3
   },
   "file_extension": ".py",
   "mimetype": "text/x-python",
   "name": "python",
   "nbconvert_exporter": "python",
   "pygments_lexer": "ipython3",
   "version": "3.10.11"
  }
 },
 "nbformat": 4,
 "nbformat_minor": 4
}
