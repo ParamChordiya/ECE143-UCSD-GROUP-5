{
 "cells": [
  {
   "cell_type": "code",
   "execution_count": null,
   "metadata": {
    "_cell_guid": "b1076dfc-b9ad-4769-8c92-a6c4dae69d19",
    "_uuid": "8f2839f25d086af736a60e9eeb907d3b93b6e0e5",
    "execution": {
     "iopub.execute_input": "2023-11-15T03:17:47.883701Z",
     "iopub.status.busy": "2023-11-15T03:17:47.883220Z",
     "iopub.status.idle": "2023-11-15T03:17:47.904716Z",
     "shell.execute_reply": "2023-11-15T03:17:47.903735Z",
     "shell.execute_reply.started": "2023-11-15T03:17:47.883666Z"
    }
   },
   "outputs": [],
   "source": [
    "import numpy as np # linear algebra\n",
    "import pandas as pd # data processing, CSV file I/O (e.g. pd.read_csv)\n",
    "from sklearn.preprocessing import LabelEncoder"
   ]
  },
  {
   "cell_type": "markdown",
   "metadata": {},
   "source": [
    "# <center><span style=\"color: #3498db;\">Complete Data Cleaning and label encoding</span></center>"
   ]
  },
  {
   "cell_type": "markdown",
   "metadata": {},
   "source": [
    "# <center> Label Encoding Information</center>\n",
    "\n",
    "## <span style=\"color: #3498db;\">The following Label Encoding has been applied to convert categorical data to numerical form:</span>\n",
    "\n",
    "**stop_cause**\n",
    "- <span style=\"color: #3498db;\">Male: 0</span>\n",
    "- <span style=\"color: #e74c3c;\">Female: 1</span>\n",
    "- <span style=\"color: #95a5a6;\">Unknown: 2</span>\n",
    "\n",
    "**subject_race**\n",
    "- <span style=\"color: #27ae60;\">'A': 0</span>\n",
    "- <span style=\"color: #f39c12;\">'B': 1</span>\n",
    "- <span style=\"color: #8e44ad;\">'C': 2</span>\n",
    "- <span style=\"color: #d35400;\">'D': 3</span>\n",
    "- <span style=\"color: #c0392b;\">'F': 4</span>\n",
    "- <span style=\"color: #16a085;\">'G': 5</span>\n",
    "- <span style=\"color: #f1c40f;\">'H': 6</span>\n",
    "- <span style=\"color: #bdc3c7;\">'I': 7</span>\n",
    "- <span style=\"color: #7f8c8d;\">'J': 8</span>\n",
    "- <span style=\"color: #34495e;\">'K': 9</span>\n",
    "- <span style=\"color: #2ecc71;\">'L': 10</span>\n",
    "- <span style=\"color: #3498db;\">'O': 11</span>\n",
    "- <span style=\"color: #e74c3c;\">'P': 12</span>\n",
    "- <span style=\"color: #95a5a6;\">'S': 13</span>\n",
    "- <span style=\"color: #27ae60;\">'U': 14</span>\n",
    "- <span style=\"color: #f39c12;\">'V': 15</span>\n",
    "- <span style=\"color: #8e44ad;\">'W': 16</span>\n",
    "- <span style=\"color: #d35400;\">'X': 17</span>\n",
    "- <span style=\"color: #c0392b;\">'Z': 18</span>\n",
    "\n",
    "**sd_resident, arrested, searched**\n",
    "- <span style=\"color: #27ae60;\">'Y': 1</span>\n",
    "- <span style=\"color: #e74c3c;\">'N': 0</span>\n",
    "\n",
    "**search_details_type**\n",
    "- <span style=\"color: #3498db;\">'ActionTaken': 0</span>\n",
    "- <span style=\"color: #f39c12;\">'ActionTakenOther': 1</span>\n",
    "- <span style=\"color: #8e44ad;\">'SearchBasis': 2</span>\n",
    "- <span style=\"color: #d35400;\">'SearchBasisOther': 3</span>\n",
    "- <span style=\"color: #c0392b;\">'SearchType': 4</span>"
   ]
  },
  {
   "cell_type": "code",
   "execution_count": null,
   "metadata": {
    "execution": {
     "iopub.execute_input": "2023-11-15T03:17:53.743144Z",
     "iopub.status.busy": "2023-11-15T03:17:53.742314Z",
     "iopub.status.idle": "2023-11-15T03:17:53.750091Z",
     "shell.execute_reply": "2023-11-15T03:17:53.749069Z",
     "shell.execute_reply.started": "2023-11-15T03:17:53.743100Z"
    }
   },
   "outputs": [],
   "source": [
    "def unique_value_feature(df, column):\n",
    "    \"\"\"\n",
    "    Print the unique values and their counts for a given column in a DataFrame.\n",
    "\n",
    "    Parameters:\n",
    "    - df (pandas.DataFrame): The DataFrame containing the data.\n",
    "    - column (str): The column name for which unique values are to be analyzed.\n",
    "\n",
    "    Returns:\n",
    "    None\n",
    "\n",
    "    Example:\n",
    "    unique_value_feature(my_dataframe, 'example_column')\n",
    "    \"\"\"\n",
    "    assert isinstance(df, pd.DataFrame), \"Input 'df' must be a pandas DataFrame.\"\n",
    "    assert isinstance(column, str), \"Input 'column' must be a string.\"\n",
    "\n",
    "    unique_values = df[column].value_counts()\n",
    "    print(f\"Feature: {column}\\n{unique_values}\\n{'=' * 30}\\n\")"
   ]
  },
  {
   "cell_type": "code",
   "execution_count": null,
   "metadata": {
    "execution": {
     "iopub.execute_input": "2023-11-15T03:17:54.625386Z",
     "iopub.status.busy": "2023-11-15T03:17:54.624979Z",
     "iopub.status.idle": "2023-11-15T03:17:54.632203Z",
     "shell.execute_reply": "2023-11-15T03:17:54.631075Z",
     "shell.execute_reply.started": "2023-11-15T03:17:54.625327Z"
    }
   },
   "outputs": [],
   "source": [
    "def clean_features(df, replace_mapping, feature):\n",
    "    \"\"\"\n",
    "    Clean and standardize a specified feature column in the given DataFrame.\n",
    "\n",
    "    Parameters:\n",
    "    - df (pandas.DataFrame): The DataFrame containing the data.\n",
    "    - replace_mapping (dict): A dictionary specifying the values to be replaced.\n",
    "    - feature (str): The feature/column name to be cleaned and standardized.\n",
    "\n",
    "    Returns:\n",
    "    pandas.DataFrame: The DataFrame with the specified feature column cleaned and standardized.\n",
    "    \"\"\"\n",
    "    # Input parameter assertions\n",
    "    assert isinstance(df, pd.DataFrame), \"Input 'df' must be a pandas DataFrame.\"\n",
    "    assert isinstance(replace_mapping, dict), \"Input 'replace_mapping' must be a dictionary.\"\n",
    "    assert isinstance(feature, str), \"Input 'feature' must be a string.\"\n",
    "\n",
    "    for old_value, new_value in replace_mapping.items():\n",
    "        df.loc[df[feature].isin([old_value]), feature] = new_value\n",
    "\n",
    "    return df"
   ]
  },
  {
   "cell_type": "code",
   "execution_count": null,
   "metadata": {
    "execution": {
     "iopub.execute_input": "2023-11-15T03:17:55.293708Z",
     "iopub.status.busy": "2023-11-15T03:17:55.293293Z",
     "iopub.status.idle": "2023-11-15T03:17:55.300558Z",
     "shell.execute_reply": "2023-11-15T03:17:55.299393Z",
     "shell.execute_reply.started": "2023-11-15T03:17:55.293674Z"
    }
   },
   "outputs": [],
   "source": [
    "def drop_rows_by_feature_value(df, feature, value):\n",
    "    \"\"\"\n",
    "    Drop rows from a DataFrame where the specified feature has the specified value.\n",
    "\n",
    "    Parameters:\n",
    "    - df (pandas.DataFrame): The DataFrame containing the data.\n",
    "    - feature (str): The feature/column name based on which rows will be dropped.\n",
    "    - value: The value of the feature for which rows will be dropped.\n",
    "\n",
    "    Returns:\n",
    "    pandas.DataFrame: The DataFrame with specified rows dropped.\n",
    "    \"\"\"\n",
    "    # Input parameter assertions\n",
    "    assert isinstance(df, pd.DataFrame), \"Input 'df' must be a pandas DataFrame.\"\n",
    "    assert isinstance(feature, str), \"Input 'feature' must be a string.\"\n",
    "\n",
    "    return df[df[feature] != value]"
   ]
  },
  {
   "cell_type": "code",
   "execution_count": null,
   "metadata": {
    "execution": {
     "iopub.execute_input": "2023-11-15T03:17:55.816190Z",
     "iopub.status.busy": "2023-11-15T03:17:55.815815Z",
     "iopub.status.idle": "2023-11-15T03:17:55.822606Z",
     "shell.execute_reply": "2023-11-15T03:17:55.821678Z",
     "shell.execute_reply.started": "2023-11-15T03:17:55.816152Z"
    }
   },
   "outputs": [],
   "source": [
    "def get_unique_values_as_list(df, feature):\n",
    "    \"\"\"\n",
    "    Get all unique values of a specified feature in a DataFrame as a list.\n",
    "\n",
    "    Parameters:\n",
    "    - df (pandas.DataFrame): The DataFrame containing the data.\n",
    "    - feature (str): The feature/column name for which unique values are to be retrieved.\n",
    "\n",
    "    Returns:\n",
    "    list: A list of unique values for the specified feature.\n",
    "    \"\"\"\n",
    "    # Input parameter assertions\n",
    "    assert isinstance(df, pd.DataFrame), \"Input 'df' must be a pandas DataFrame.\"\n",
    "    assert isinstance(feature, str), \"Input 'feature' must be a string.\"\n",
    "\n",
    "    unique_values = df[feature].unique().tolist()\n",
    "    return unique_values"
   ]
  },
  {
   "cell_type": "code",
   "execution_count": null,
   "metadata": {
    "execution": {
     "iopub.execute_input": "2023-11-15T03:17:57.522969Z",
     "iopub.status.busy": "2023-11-15T03:17:57.521995Z",
     "iopub.status.idle": "2023-11-15T03:17:58.882039Z",
     "shell.execute_reply": "2023-11-15T03:17:58.880876Z",
     "shell.execute_reply.started": "2023-11-15T03:17:57.522929Z"
    }
   },
   "outputs": [],
   "source": [
    "df= pd.read_csv(\"/kaggle/input/ece-143-group-5/final_combined_dataset_v2.csv\")\n",
    "df"
   ]
  },
  {
   "cell_type": "code",
   "execution_count": null,
   "metadata": {
    "execution": {
     "iopub.execute_input": "2023-11-15T03:17:58.884862Z",
     "iopub.status.busy": "2023-11-15T03:17:58.884191Z",
     "iopub.status.idle": "2023-11-15T03:17:59.428987Z",
     "shell.execute_reply": "2023-11-15T03:17:59.427689Z",
     "shell.execute_reply.started": "2023-11-15T03:17:58.884827Z"
    }
   },
   "outputs": [],
   "source": [
    "df.info()"
   ]
  },
  {
   "cell_type": "code",
   "execution_count": null,
   "metadata": {
    "execution": {
     "iopub.execute_input": "2023-11-15T03:18:02.058292Z",
     "iopub.status.busy": "2023-11-15T03:18:02.057665Z",
     "iopub.status.idle": "2023-11-15T03:18:02.598575Z",
     "shell.execute_reply": "2023-11-15T03:18:02.597433Z",
     "shell.execute_reply.started": "2023-11-15T03:18:02.058255Z"
    }
   },
   "outputs": [],
   "source": [
    "print(df.isnull().sum())"
   ]
  },
  {
   "cell_type": "code",
   "execution_count": null,
   "metadata": {
    "execution": {
     "iopub.execute_input": "2023-11-15T03:18:03.184191Z",
     "iopub.status.busy": "2023-11-15T03:18:03.183816Z",
     "iopub.status.idle": "2023-11-15T03:18:03.821526Z",
     "shell.execute_reply": "2023-11-15T03:18:03.820383Z",
     "shell.execute_reply.started": "2023-11-15T03:18:03.184162Z"
    }
   },
   "outputs": [],
   "source": [
    "print(df.duplicated().sum())"
   ]
  },
  {
   "cell_type": "code",
   "execution_count": null,
   "metadata": {
    "execution": {
     "iopub.execute_input": "2023-11-15T03:18:03.833025Z",
     "iopub.status.busy": "2023-11-15T03:18:03.832688Z",
     "iopub.status.idle": "2023-11-15T03:18:04.540306Z",
     "shell.execute_reply": "2023-11-15T03:18:04.538834Z",
     "shell.execute_reply.started": "2023-11-15T03:18:03.832997Z"
    }
   },
   "outputs": [],
   "source": [
    "df = df.drop_duplicates()"
   ]
  },
  {
   "cell_type": "code",
   "execution_count": null,
   "metadata": {
    "execution": {
     "iopub.execute_input": "2023-11-15T03:18:04.657414Z",
     "iopub.status.busy": "2023-11-15T03:18:04.656522Z",
     "iopub.status.idle": "2023-11-15T03:18:04.683551Z",
     "shell.execute_reply": "2023-11-15T03:18:04.682390Z",
     "shell.execute_reply.started": "2023-11-15T03:18:04.657372Z"
    }
   },
   "outputs": [],
   "source": [
    "df"
   ]
  },
  {
   "cell_type": "code",
   "execution_count": null,
   "metadata": {
    "execution": {
     "iopub.execute_input": "2023-11-15T03:18:09.292479Z",
     "iopub.status.busy": "2023-11-15T03:18:09.291498Z",
     "iopub.status.idle": "2023-11-15T03:18:09.373999Z",
     "shell.execute_reply": "2023-11-15T03:18:09.372799Z",
     "shell.execute_reply.started": "2023-11-15T03:18:09.292432Z"
    }
   },
   "outputs": [],
   "source": [
    "unique_value_feaure(df,'stop_cause')"
   ]
  },
  {
   "cell_type": "code",
   "execution_count": null,
   "metadata": {
    "execution": {
     "iopub.execute_input": "2023-11-15T03:18:09.718165Z",
     "iopub.status.busy": "2023-11-15T03:18:09.717462Z",
     "iopub.status.idle": "2023-11-15T03:18:10.025070Z",
     "shell.execute_reply": "2023-11-15T03:18:10.023910Z",
     "shell.execute_reply.started": "2023-11-15T03:18:09.718120Z"
    }
   },
   "outputs": [],
   "source": [
    "stop_cause_mapping = {\n",
    "    'NOT MARKED': 'Not Marked',\n",
    "    'not marked': 'Not Marked',\n",
    "    'Suspect Info': 'Suspect Info (I.S., Bulletin, Log)',\n",
    "    '&Equipment Violation': 'Equipment Violation',\n",
    "    'Personal Observ/Knowledge': 'Personal Knowledge/Informant',\n",
    "    '&Moving Violation': 'Moving Violation',\n",
    "    '&Radio Call/Citizen Contact': 'Radio Call/Citizen Contact',\n",
    "    'no cause listed': 'Not Listed',\n",
    "    'none listed': 'Not Listed',\n",
    "    'Not Marked': 'Not Listed',\n",
    "    'not noted': 'Not Listed',\n",
    "    'not listed': 'Not Listed',\n",
    "    'not marked  not marked': 'Not Listed',\n",
    "    'NOT SPECIFIED': 'Not Listed',\n",
    "    'No Cause Specified on a Card': 'Not Listed',\n",
    "    'UNI, &County, H&&S Code': 'Muni, County, H&S Code',\n",
    "    'MUNI, County, H&S Code': 'Muni, County, H&S Code',\n",
    "    'Not Listed' : 'Not Listed/Other', \n",
    "    'Other': 'Not Listed/Other'\n",
    "}\n",
    "df = clean_features(df, stop_cause_mapping,'stop_cause')"
   ]
  },
  {
   "cell_type": "code",
   "execution_count": null,
   "metadata": {
    "execution": {
     "iopub.execute_input": "2023-11-15T03:18:11.226328Z",
     "iopub.status.busy": "2023-11-15T03:18:11.225945Z",
     "iopub.status.idle": "2023-11-15T03:18:11.305056Z",
     "shell.execute_reply": "2023-11-15T03:18:11.303887Z",
     "shell.execute_reply.started": "2023-11-15T03:18:11.226296Z"
    }
   },
   "outputs": [],
   "source": [
    "unique_value_feaure(df,'stop_cause')"
   ]
  },
  {
   "cell_type": "code",
   "execution_count": null,
   "metadata": {
    "execution": {
     "iopub.execute_input": "2023-11-15T03:18:12.442828Z",
     "iopub.status.busy": "2023-11-15T03:18:12.442075Z",
     "iopub.status.idle": "2023-11-15T03:18:12.503656Z",
     "shell.execute_reply": "2023-11-15T03:18:12.502399Z",
     "shell.execute_reply.started": "2023-11-15T03:18:12.442780Z"
    }
   },
   "outputs": [],
   "source": [
    "unique_value_feaure(df,'subject_race')"
   ]
  },
  {
   "cell_type": "code",
   "execution_count": null,
   "metadata": {
    "execution": {
     "iopub.execute_input": "2023-11-15T03:18:16.528716Z",
     "iopub.status.busy": "2023-11-15T03:18:16.528315Z",
     "iopub.status.idle": "2023-11-15T03:18:16.618161Z",
     "shell.execute_reply": "2023-11-15T03:18:16.617128Z",
     "shell.execute_reply.started": "2023-11-15T03:18:16.528685Z"
    }
   },
   "outputs": [],
   "source": [
    "columns_to_drop = ['date_time']\n",
    "df = df.drop(columns=columns_to_drop)\n",
    "df"
   ]
  },
  {
   "cell_type": "code",
   "execution_count": null,
   "metadata": {
    "execution": {
     "iopub.execute_input": "2023-11-15T03:18:17.391858Z",
     "iopub.status.busy": "2023-11-15T03:18:17.391440Z",
     "iopub.status.idle": "2023-11-15T03:18:17.452130Z",
     "shell.execute_reply": "2023-11-15T03:18:17.451298Z",
     "shell.execute_reply.started": "2023-11-15T03:18:17.391821Z"
    }
   },
   "outputs": [],
   "source": [
    "unique_value_feaure(df,'sd_resident')"
   ]
  },
  {
   "cell_type": "code",
   "execution_count": null,
   "metadata": {
    "execution": {
     "iopub.execute_input": "2023-11-15T03:18:18.658104Z",
     "iopub.status.busy": "2023-11-15T03:18:18.656954Z",
     "iopub.status.idle": "2023-11-15T03:18:18.696701Z",
     "shell.execute_reply": "2023-11-15T03:18:18.695792Z",
     "shell.execute_reply.started": "2023-11-15T03:18:18.658060Z"
    }
   },
   "outputs": [],
   "source": [
    "sd_resident_mapping = {\n",
    "    \"y\":'Y',\n",
    "    'n' : 'N',\n",
    "}\n",
    "df = clean_features(df, sd_resident_mapping,'sd_resident')"
   ]
  },
  {
   "cell_type": "code",
   "execution_count": null,
   "metadata": {
    "execution": {
     "iopub.execute_input": "2023-11-15T03:18:19.357957Z",
     "iopub.status.busy": "2023-11-15T03:18:19.356849Z",
     "iopub.status.idle": "2023-11-15T03:18:19.418514Z",
     "shell.execute_reply": "2023-11-15T03:18:19.417389Z",
     "shell.execute_reply.started": "2023-11-15T03:18:19.357918Z"
    }
   },
   "outputs": [],
   "source": [
    "unique_value_feaure(df,'sd_resident')"
   ]
  },
  {
   "cell_type": "code",
   "execution_count": null,
   "metadata": {
    "execution": {
     "iopub.execute_input": "2023-11-15T03:18:19.623328Z",
     "iopub.status.busy": "2023-11-15T03:18:19.622205Z",
     "iopub.status.idle": "2023-11-15T03:18:19.787965Z",
     "shell.execute_reply": "2023-11-15T03:18:19.786724Z",
     "shell.execute_reply.started": "2023-11-15T03:18:19.623289Z"
    }
   },
   "outputs": [],
   "source": [
    "df = drop_rows_by_feature_value(df, 'sd_resident', ' ')"
   ]
  },
  {
   "cell_type": "code",
   "execution_count": null,
   "metadata": {
    "execution": {
     "iopub.execute_input": "2023-11-15T03:18:19.834520Z",
     "iopub.status.busy": "2023-11-15T03:18:19.833827Z",
     "iopub.status.idle": "2023-11-15T03:18:19.894587Z",
     "shell.execute_reply": "2023-11-15T03:18:19.893404Z",
     "shell.execute_reply.started": "2023-11-15T03:18:19.834486Z"
    }
   },
   "outputs": [],
   "source": [
    "unique_value_feaure(df,'sd_resident')"
   ]
  },
  {
   "cell_type": "code",
   "execution_count": null,
   "metadata": {
    "execution": {
     "iopub.execute_input": "2023-11-15T03:18:20.060875Z",
     "iopub.status.busy": "2023-11-15T03:18:20.060462Z",
     "iopub.status.idle": "2023-11-15T03:18:20.121890Z",
     "shell.execute_reply": "2023-11-15T03:18:20.120813Z",
     "shell.execute_reply.started": "2023-11-15T03:18:20.060840Z"
    }
   },
   "outputs": [],
   "source": [
    "unique_value_feaure(df,'arrested')"
   ]
  },
  {
   "cell_type": "code",
   "execution_count": null,
   "metadata": {
    "execution": {
     "iopub.execute_input": "2023-11-15T03:18:20.270915Z",
     "iopub.status.busy": "2023-11-15T03:18:20.270248Z",
     "iopub.status.idle": "2023-11-15T03:18:20.553507Z",
     "shell.execute_reply": "2023-11-15T03:18:20.552401Z",
     "shell.execute_reply.started": "2023-11-15T03:18:20.270867Z"
    }
   },
   "outputs": [],
   "source": [
    "df = drop_rows_by_feature_value(df, 'arrested', ' ')\n",
    "df = clean_features(df, sd_resident_mapping,'arrested')\n",
    "unique_value_feaure(df,'arrested')"
   ]
  },
  {
   "cell_type": "code",
   "execution_count": null,
   "metadata": {
    "execution": {
     "iopub.execute_input": "2023-11-15T03:18:20.557296Z",
     "iopub.status.busy": "2023-11-15T03:18:20.556874Z",
     "iopub.status.idle": "2023-11-15T03:18:20.618445Z",
     "shell.execute_reply": "2023-11-15T03:18:20.617303Z",
     "shell.execute_reply.started": "2023-11-15T03:18:20.557254Z"
    }
   },
   "outputs": [],
   "source": [
    "unique_value_feaure(df,'searched')"
   ]
  },
  {
   "cell_type": "code",
   "execution_count": null,
   "metadata": {
    "execution": {
     "iopub.execute_input": "2023-11-15T03:18:23.667869Z",
     "iopub.status.busy": "2023-11-15T03:18:23.667484Z",
     "iopub.status.idle": "2023-11-15T03:18:23.967898Z",
     "shell.execute_reply": "2023-11-15T03:18:23.966987Z",
     "shell.execute_reply.started": "2023-11-15T03:18:23.667838Z"
    }
   },
   "outputs": [],
   "source": [
    "df = drop_rows_by_feature_value(df, 'searched', ' ')\n",
    "df = clean_features(df, sd_resident_mapping,'searched')\n",
    "unique_value_feaure(df,'searched')"
   ]
  },
  {
   "cell_type": "code",
   "execution_count": null,
   "metadata": {
    "execution": {
     "iopub.execute_input": "2023-11-15T03:18:24.249168Z",
     "iopub.status.busy": "2023-11-15T03:18:24.248779Z",
     "iopub.status.idle": "2023-11-15T03:18:24.291249Z",
     "shell.execute_reply": "2023-11-15T03:18:24.290060Z",
     "shell.execute_reply.started": "2023-11-15T03:18:24.249139Z"
    }
   },
   "outputs": [],
   "source": [
    "unique_subject_age_values = get_unique_values_as_list(df, 'subject_age')\n",
    "print(unique_subject_age_values)"
   ]
  },
  {
   "cell_type": "code",
   "execution_count": null,
   "metadata": {
    "execution": {
     "iopub.execute_input": "2023-11-15T03:18:24.976561Z",
     "iopub.status.busy": "2023-11-15T03:18:24.976163Z",
     "iopub.status.idle": "2023-11-15T03:18:24.984255Z",
     "shell.execute_reply": "2023-11-15T03:18:24.983046Z",
     "shell.execute_reply.started": "2023-11-15T03:18:24.976529Z"
    }
   },
   "outputs": [],
   "source": [
    "df.shape"
   ]
  },
  {
   "cell_type": "code",
   "execution_count": null,
   "metadata": {
    "execution": {
     "iopub.execute_input": "2023-11-15T03:18:25.752311Z",
     "iopub.status.busy": "2023-11-15T03:18:25.751905Z",
     "iopub.status.idle": "2023-11-15T03:18:33.702016Z",
     "shell.execute_reply": "2023-11-15T03:18:33.700834Z",
     "shell.execute_reply.started": "2023-11-15T03:18:25.752277Z"
    }
   },
   "outputs": [],
   "source": [
    "ages_to_drop =['0', '5', '230','2_', '2', '211', '8', '234', '185', '13', '12', '9', '153', '7', '6', '4', '221', '5_', '1', '4_', \n",
    "               '255', '224', '3', 'N', '204', '223', '228', '222',  '213', 'No Age', '125', '243', '399', 'f26', '3_', '11', '233', \n",
    "               '180', '173', '100', '119', '163', '212', '220', '145', '120', '226', '143']\n",
    "\n",
    "for i in ages_to_drop:\n",
    "    df = drop_rows_by_feature_value(df, 'subject_age', i)"
   ]
  },
  {
   "cell_type": "code",
   "execution_count": null,
   "metadata": {
    "execution": {
     "iopub.execute_input": "2023-11-15T03:18:33.704913Z",
     "iopub.status.busy": "2023-11-15T03:18:33.704399Z",
     "iopub.status.idle": "2023-11-15T03:18:33.712522Z",
     "shell.execute_reply": "2023-11-15T03:18:33.711130Z",
     "shell.execute_reply.started": "2023-11-15T03:18:33.704871Z"
    }
   },
   "outputs": [],
   "source": [
    "df.shape"
   ]
  },
  {
   "cell_type": "code",
   "execution_count": null,
   "metadata": {
    "execution": {
     "iopub.execute_input": "2023-11-15T03:18:33.714805Z",
     "iopub.status.busy": "2023-11-15T03:18:33.714302Z",
     "iopub.status.idle": "2023-11-15T03:18:33.757627Z",
     "shell.execute_reply": "2023-11-15T03:18:33.756390Z",
     "shell.execute_reply.started": "2023-11-15T03:18:33.714773Z"
    }
   },
   "outputs": [],
   "source": [
    "unique_subject_age_values = get_unique_values_as_list(df, 'subject_age')\n",
    "print(unique_subject_age_values)"
   ]
  },
  {
   "cell_type": "code",
   "execution_count": null,
   "metadata": {
    "execution": {
     "iopub.execute_input": "2023-11-15T03:18:33.760165Z",
     "iopub.status.busy": "2023-11-15T03:18:33.759852Z",
     "iopub.status.idle": "2023-11-15T03:18:33.784835Z",
     "shell.execute_reply": "2023-11-15T03:18:33.783791Z",
     "shell.execute_reply.started": "2023-11-15T03:18:33.760136Z"
    }
   },
   "outputs": [],
   "source": [
    "df = clean_features(df, {'Unknown': 0},'service_area')"
   ]
  },
  {
   "cell_type": "code",
   "execution_count": null,
   "metadata": {
    "execution": {
     "iopub.execute_input": "2023-11-15T03:18:33.787191Z",
     "iopub.status.busy": "2023-11-15T03:18:33.786207Z",
     "iopub.status.idle": "2023-11-15T03:18:33.837307Z",
     "shell.execute_reply": "2023-11-15T03:18:33.836477Z",
     "shell.execute_reply.started": "2023-11-15T03:18:33.787157Z"
    }
   },
   "outputs": [],
   "source": [
    "yes_no_mapping = {\n",
    "    \"Y\": 1,\n",
    "    'N' : 0,\n",
    "}\n",
    "df = clean_features(df, yes_no_mapping,'sd_resident')"
   ]
  },
  {
   "cell_type": "code",
   "execution_count": null,
   "metadata": {
    "execution": {
     "iopub.execute_input": "2023-11-15T03:18:34.457446Z",
     "iopub.status.busy": "2023-11-15T03:18:34.456431Z",
     "iopub.status.idle": "2023-11-15T03:18:34.531563Z",
     "shell.execute_reply": "2023-11-15T03:18:34.530608Z",
     "shell.execute_reply.started": "2023-11-15T03:18:34.457407Z"
    }
   },
   "outputs": [],
   "source": [
    "df = clean_features(df, yes_no_mapping,'arrested')\n",
    "df = clean_features(df, yes_no_mapping,'searched')"
   ]
  },
  {
   "cell_type": "code",
   "execution_count": null,
   "metadata": {
    "execution": {
     "iopub.execute_input": "2023-11-15T03:18:43.721884Z",
     "iopub.status.busy": "2023-11-15T03:18:43.721506Z",
     "iopub.status.idle": "2023-11-15T03:18:43.727096Z",
     "shell.execute_reply": "2023-11-15T03:18:43.725916Z",
     "shell.execute_reply.started": "2023-11-15T03:18:43.721853Z"
    }
   },
   "outputs": [],
   "source": [
    "label_encoder = LabelEncoder()"
   ]
  },
  {
   "cell_type": "code",
   "execution_count": null,
   "metadata": {
    "execution": {
     "iopub.execute_input": "2023-11-15T03:18:46.153456Z",
     "iopub.status.busy": "2023-11-15T03:18:46.152578Z",
     "iopub.status.idle": "2023-11-15T03:18:46.281085Z",
     "shell.execute_reply": "2023-11-15T03:18:46.279579Z",
     "shell.execute_reply.started": "2023-11-15T03:18:46.153418Z"
    }
   },
   "outputs": [],
   "source": [
    "df['subject_race'] = label_encoder.fit_transform(df['subject_race'])"
   ]
  },
  {
   "cell_type": "code",
   "execution_count": null,
   "metadata": {
    "execution": {
     "iopub.execute_input": "2023-11-15T03:18:49.416010Z",
     "iopub.status.busy": "2023-11-15T03:18:49.415626Z",
     "iopub.status.idle": "2023-11-15T03:18:49.421985Z",
     "shell.execute_reply": "2023-11-15T03:18:49.421007Z",
     "shell.execute_reply.started": "2023-11-15T03:18:49.415977Z"
    }
   },
   "outputs": [],
   "source": [
    "label_mapping = dict(zip(label_encoder.classes_, label_encoder.transform(label_encoder.classes_)))\n",
    "print(\"Label Mapping:\")\n",
    "print(label_mapping)"
   ]
  },
  {
   "cell_type": "code",
   "execution_count": null,
   "metadata": {
    "execution": {
     "iopub.execute_input": "2023-11-15T03:18:53.001399Z",
     "iopub.status.busy": "2023-11-15T03:18:53.001013Z",
     "iopub.status.idle": "2023-11-15T03:18:53.136484Z",
     "shell.execute_reply": "2023-11-15T03:18:53.135352Z",
     "shell.execute_reply.started": "2023-11-15T03:18:53.001367Z"
    }
   },
   "outputs": [],
   "source": [
    "df['search_details_type'] = label_encoder.fit_transform(df['search_details_type'])"
   ]
  },
  {
   "cell_type": "code",
   "execution_count": null,
   "metadata": {
    "execution": {
     "iopub.execute_input": "2023-11-15T03:18:56.931403Z",
     "iopub.status.busy": "2023-11-15T03:18:56.930964Z",
     "iopub.status.idle": "2023-11-15T03:18:56.939902Z",
     "shell.execute_reply": "2023-11-15T03:18:56.938470Z",
     "shell.execute_reply.started": "2023-11-15T03:18:56.931366Z"
    }
   },
   "outputs": [],
   "source": [
    "label_mapping = dict(zip(label_encoder.classes_, label_encoder.transform(label_encoder.classes_)))\n",
    "print(\"Label Mapping:\")\n",
    "print(label_mapping)"
   ]
  },
  {
   "cell_type": "code",
   "execution_count": null,
   "metadata": {
    "execution": {
     "iopub.execute_input": "2023-11-15T03:19:36.537887Z",
     "iopub.status.busy": "2023-11-15T03:19:36.537499Z",
     "iopub.status.idle": "2023-11-15T03:19:36.676859Z",
     "shell.execute_reply": "2023-11-15T03:19:36.675676Z",
     "shell.execute_reply.started": "2023-11-15T03:19:36.537857Z"
    }
   },
   "outputs": [],
   "source": [
    "df['stop_cause'] = label_encoder.fit_transform(df['stop_cause'])"
   ]
  },
  {
   "cell_type": "code",
   "execution_count": null,
   "metadata": {
    "execution": {
     "iopub.execute_input": "2023-11-15T03:19:41.892520Z",
     "iopub.status.busy": "2023-11-15T03:19:41.892123Z",
     "iopub.status.idle": "2023-11-15T03:19:41.899772Z",
     "shell.execute_reply": "2023-11-15T03:19:41.898205Z",
     "shell.execute_reply.started": "2023-11-15T03:19:41.892487Z"
    }
   },
   "outputs": [],
   "source": [
    "label_mapping = dict(zip(label_encoder.classes_, label_encoder.transform(label_encoder.classes_)))\n",
    "print(\"Label Mapping:\")\n",
    "print(label_mapping)"
   ]
  },
  {
   "cell_type": "code",
   "execution_count": null,
   "metadata": {
    "execution": {
     "iopub.execute_input": "2023-11-15T03:19:46.823088Z",
     "iopub.status.busy": "2023-11-15T03:19:46.822717Z",
     "iopub.status.idle": "2023-11-15T03:19:46.849374Z",
     "shell.execute_reply": "2023-11-15T03:19:46.848270Z",
     "shell.execute_reply.started": "2023-11-15T03:19:46.823058Z"
    }
   },
   "outputs": [],
   "source": [
    "df"
   ]
  },
  {
   "cell_type": "code",
   "execution_count": null,
   "metadata": {
    "execution": {
     "iopub.execute_input": "2023-11-15T03:33:45.691814Z",
     "iopub.status.busy": "2023-11-15T03:33:45.691227Z",
     "iopub.status.idle": "2023-11-15T03:33:45.813129Z",
     "shell.execute_reply": "2023-11-15T03:33:45.812053Z",
     "shell.execute_reply.started": "2023-11-15T03:33:45.691769Z"
    }
   },
   "outputs": [],
   "source": [
    "df.describe().T"
   ]
  },
  {
   "cell_type": "code",
   "execution_count": null,
   "metadata": {
    "execution": {
     "iopub.execute_input": "2023-11-15T03:37:13.390839Z",
     "iopub.status.busy": "2023-11-15T03:37:13.390403Z",
     "iopub.status.idle": "2023-11-15T03:37:17.026175Z",
     "shell.execute_reply": "2023-11-15T03:37:17.024694Z",
     "shell.execute_reply.started": "2023-11-15T03:37:13.390789Z"
    }
   },
   "outputs": [],
   "source": [
    "df.to_csv('final_combined_dataset_v3.csv', index=False)"
   ]
  },
  {
   "cell_type": "code",
   "execution_count": null,
   "metadata": {},
   "outputs": [],
   "source": []
  }
 ],
 "metadata": {
  "kaggle": {
   "accelerator": "none",
   "dataSources": [
    {
     "datasetId": 3981620,
     "sourceId": 6969976,
     "sourceType": "datasetVersion"
    }
   ],
   "dockerImageVersionId": 30579,
   "isGpuEnabled": false,
   "isInternetEnabled": true,
   "language": "python",
   "sourceType": "notebook"
  },
  "kernelspec": {
   "display_name": "Python 3 (ipykernel)",
   "language": "python",
   "name": "python3"
  },
  "language_info": {
   "codemirror_mode": {
    "name": "ipython",
    "version": 3
   },
   "file_extension": ".py",
   "mimetype": "text/x-python",
   "name": "python",
   "nbconvert_exporter": "python",
   "pygments_lexer": "ipython3",
   "version": "3.10.11"
  }
 },
 "nbformat": 4,
 "nbformat_minor": 4
}
